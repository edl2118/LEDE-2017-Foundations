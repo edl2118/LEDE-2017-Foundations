{
 "cells": [
  {
   "cell_type": "markdown",
   "metadata": {
    "collapsed": true
   },
   "source": [
    "# Corporate Prosecution - Exercise Q\n",
    "\n",
    "#### Summary\n",
    "\n",
    "Investigate the differences between different states' prosecution of corporate issues.\n",
    "\n",
    "#### Files\n",
    "\n",
    "- cpr-data.xls, \"detailed information about every federal organizational prosecution since 2001, as well as deferred and non-prosecution agreements with organizations since 1990\"\n",
    "\n",
    "#### Source\n",
    "\n",
    "[Corpoate Prosecution Registry](http://lib.law.virginia.edu/Garrett/corporate-prosecution-registry/about.html) \n",
    "\n",
    "#### Skills\n",
    "\n",
    "- Working with CSV files\n",
    "- Counting and summarizing columns\n",
    "- Searching with strings\n",
    "- Extracting with strings"
   ]
  },
  {
   "cell_type": "markdown",
   "metadata": {},
   "source": [
    "# Read in `cpr-data.csv`"
   ]
  },
  {
   "cell_type": "code",
   "execution_count": 1,
   "metadata": {
    "collapsed": true
   },
   "outputs": [],
   "source": [
    "import pandas as pd\n",
    "import numpy as np\n",
    "%matplotlib inline"
   ]
  },
  {
   "cell_type": "code",
   "execution_count": 2,
   "metadata": {},
   "outputs": [],
   "source": [
    "df=pd.read_csv(\"cpr-data.csv\")"
   ]
  },
  {
   "cell_type": "markdown",
   "metadata": {},
   "source": [
    "### Check that your dataframe has 3038 rows and 56 columns."
   ]
  },
  {
   "cell_type": "code",
   "execution_count": 3,
   "metadata": {},
   "outputs": [
    {
     "data": {
      "text/plain": [
       "(3038, 56)"
      ]
     },
     "execution_count": 3,
     "metadata": {},
     "output_type": "execute_result"
    }
   ],
   "source": [
    "df.shape"
   ]
  },
  {
   "cell_type": "markdown",
   "metadata": {},
   "source": [
    "### List the columns and their data types"
   ]
  },
  {
   "cell_type": "code",
   "execution_count": 4,
   "metadata": {
    "scrolled": true
   },
   "outputs": [
    {
     "data": {
      "text/plain": [
       "REC_ID                                                                      int64\n",
       "COMPANY                                                                    object\n",
       "DISPOSITION_TYPE                                                           object\n",
       "PRIMARY_CRIME_CODE                                                         object\n",
       "SWISS_BANK_PROGRAM                                                         object\n",
       "USAO                                                                       object\n",
       "COUNTRY                                                                    object\n",
       "FINANCIAL_INSTITUTION                                                      object\n",
       "CASE_NAME                                                                  object\n",
       "CASE_ID                                                                    object\n",
       "DOCKET_NO                                                                  object\n",
       "DATE                                                                       object\n",
       "JUDGMENT_DATE                                                              object\n",
       "PLEA_DATE                                                                  object\n",
       "TICKER                                                                     object\n",
       "US_PUBLIC_CO                                                               object\n",
       "ADDITIONAL_REGULATORY_FINE_OR_PAYMENT                                     float64\n",
       "COMMUNITY_SERVICE_OR_OTHER                                                float64\n",
       "FINE                                                                      float64\n",
       "FORFEITURE_DISGORGEMENT                                                   float64\n",
       "PROBATION_LENGTH                                                          float64\n",
       "RESTITUTION                                                               float64\n",
       "TOTAL_PAYMENT                                                               int64\n",
       "ACCEPTS_RESPONSIBILITY                                                     object\n",
       "AGREEMENT_REQUIRED_NEW_POSITIONS                                           object\n",
       "AGREEMENT_REQUIRED_OUTSIDE_AUDITORS_OR_EXPERTS                             object\n",
       "CITATION_AND_DESCRIPTION                                                   object\n",
       "CIVIL_JUDGMENT_OR_SETTLEMENT                                               object\n",
       "COMPLIANCE_PROGRAM_DESCRIPTION                                             object\n",
       "COMPLIANCE_PROGRAM_REQUIRED_BY_AGREEMENT                                   object\n",
       "COMPLIANCE_REQUIRED_BY_REGULATORS                                          object\n",
       "CRIME_DESC                                                                 object\n",
       "DESCRIPTION_OF_PAYMENTS                                                    object\n",
       "DOES_AGREEMENT_DISCUSS_REASONS_OR_RELEVENT_CONSIDERATIONS_FOR_LENIENCY     object\n",
       "DOJ_CAN_UNILATERALLY_TERMINATE                                             object\n",
       "FINE_CALCULATION_INCLUDED                                                  object\n",
       "FINE_DESCRIPTION                                                           object\n",
       "INDEP_MONITOR_REQUIRED                                                     object\n",
       "MUST_COMPORT_WITH_USSG_OR_AUDIT_COMPLIANCE                                 object\n",
       "OTHER_AGREEMENT                                                            object\n",
       "OTHER_AGREEMENT_REQUIRED_GOVERNANCE_CHANGES                                object\n",
       "OTHER_COMPLIANCE_OFFICER_OR_CONSULTANT_REQUIRED                            object\n",
       "PARALLEL_CIVIL_SUIT                                                        object\n",
       "PARALLEL_REGULATORY_ACTION_OR_LOCAL_PROSECUTOR                             object\n",
       "PRE_AGREEMENT_COMPLIANCE                                                   object\n",
       "PRE_AGREEMENT_COMPLIANCE_DESCRIPTION                                       object\n",
       "PRIVACY_WAIVER                                                             object\n",
       "REGULATORY_DISGORGEMENT_RESTITUTION_FORFEITURE                            float64\n",
       "REGULATORY_FINE                                                           float64\n",
       "REG_AGENCY                                                                 object\n",
       "STATEMENT_OF_FACTS                                                         object\n",
       "TOTAL_REGULATORY                                                          float64\n",
       "UNRELATED_TERMS                                                            object\n",
       "AGMT_YEAR                                                                 float64\n",
       "SOURCE                                                                     object\n",
       "NOTES                                                                      object\n",
       "dtype: object"
      ]
     },
     "execution_count": 4,
     "metadata": {},
     "output_type": "execute_result"
    }
   ],
   "source": [
    "df.dtypes"
   ]
  },
  {
   "cell_type": "markdown",
   "metadata": {},
   "source": [
    "### What do the following columns mean?\n",
    "\n",
    "- PRIMARY_CRIME_CODE\n",
    "- DISPOSITION_TYPE\n",
    "- AGREEMENT_TYPE\n",
    "- FINE\n",
    "- TOTAL_PAYMENT\n",
    "- USAO\n",
    "- AGREEMENT_REQUIRED_NEW_POSITIONS\n",
    "- INDEP_MONITOR_REQUIRED"
   ]
  },
  {
   "cell_type": "code",
   "execution_count": null,
   "metadata": {
    "collapsed": true
   },
   "outputs": [],
   "source": []
  },
  {
   "cell_type": "markdown",
   "metadata": {},
   "source": [
    "# Customizing the display in pandas\n",
    "\n",
    "See how the middle of the table has a `...`? Let's fix that.\n",
    "\n",
    "## How do you see the number of columns pandas will display?"
   ]
  },
  {
   "cell_type": "code",
   "execution_count": 5,
   "metadata": {},
   "outputs": [
    {
     "data": {
      "text/plain": [
       "20"
      ]
     },
     "execution_count": 5,
     "metadata": {},
     "output_type": "execute_result"
    }
   ],
   "source": [
    "pd.options.display.max_columns"
   ]
  },
  {
   "cell_type": "markdown",
   "metadata": {},
   "source": [
    "## Set pandas to display 60 columns"
   ]
  },
  {
   "cell_type": "code",
   "execution_count": 6,
   "metadata": {
    "collapsed": true
   },
   "outputs": [],
   "source": [
    "pd.set_option(\"display.max_columns\", 60)"
   ]
  },
  {
   "cell_type": "markdown",
   "metadata": {},
   "source": [
    "## How do you see the number of rows pandas will display? Then, set it to display 100 rows at a time.\n",
    "\n",
    "What does \"the number rows pandas will display\" actually mean?"
   ]
  },
  {
   "cell_type": "code",
   "execution_count": 7,
   "metadata": {
    "scrolled": true
   },
   "outputs": [
    {
     "data": {
      "text/plain": [
       "60"
      ]
     },
     "execution_count": 7,
     "metadata": {},
     "output_type": "execute_result"
    }
   ],
   "source": [
    "pd.options.display.max_rows"
   ]
  },
  {
   "cell_type": "code",
   "execution_count": 8,
   "metadata": {
    "collapsed": true
   },
   "outputs": [],
   "source": [
    "pd.set_option(\"display.max_rows\", 100)"
   ]
  },
  {
   "cell_type": "markdown",
   "metadata": {},
   "source": [
    "## Describe the REGULATORY_FINE column to me numerically - maxes, mins, averages.\n",
    "\n",
    "Do this in **one line.**"
   ]
  },
  {
   "cell_type": "code",
   "execution_count": 9,
   "metadata": {},
   "outputs": [
    {
     "data": {
      "text/plain": [
       "count    1.470000e+02\n",
       "mean     4.905565e+07\n",
       "std      1.405663e+08\n",
       "min      0.000000e+00\n",
       "25%      0.000000e+00\n",
       "50%      2.000000e+06\n",
       "75%      2.345000e+07\n",
       "max      1.000000e+09\n",
       "Name: REGULATORY_FINE, dtype: float64"
      ]
     },
     "execution_count": 9,
     "metadata": {},
     "output_type": "execute_result"
    }
   ],
   "source": [
    "df[\"REGULATORY_FINE\"].describe()"
   ]
  },
  {
   "cell_type": "markdown",
   "metadata": {},
   "source": [
    "### Oh that's ugly ugly ugly. Set pandas to format floats with ZERO decimal points. And tell it to use a `,` in the thousands position.\n",
    "\n",
    "I'm just going to leave [this here](http://infohost.nmt.edu/~shipman/doc/python27/web/new-str-format.html) for reference. You should definitely come up and ask on the board, though."
   ]
  },
  {
   "cell_type": "code",
   "execution_count": 23,
   "metadata": {},
   "outputs": [],
   "source": [
    "pd.set_option(\"display.float_format\", \"{:25,.0f}\".format)"
   ]
  },
  {
   "cell_type": "code",
   "execution_count": 24,
   "metadata": {
    "scrolled": true
   },
   "outputs": [
    {
     "data": {
      "text/plain": [
       "count                         147\n",
       "mean                   49,055,647\n",
       "std                   140,566,295\n",
       "min                             0\n",
       "25%                             0\n",
       "50%                     2,000,000\n",
       "75%                    23,450,000\n",
       "max                 1,000,000,000\n",
       "Name: REGULATORY_FINE, dtype: float64"
      ]
     },
     "execution_count": 24,
     "metadata": {},
     "output_type": "execute_result"
    }
   ],
   "source": [
    "df[\"REGULATORY_FINE\"].describe()"
   ]
  },
  {
   "cell_type": "markdown",
   "metadata": {},
   "source": [
    "## Look at the total payments for the first two rows. Pretty nice!"
   ]
  },
  {
   "cell_type": "code",
   "execution_count": 28,
   "metadata": {},
   "outputs": [
    {
     "data": {
      "text/html": [
       "<div>\n",
       "<style>\n",
       "    .dataframe thead tr:only-child th {\n",
       "        text-align: right;\n",
       "    }\n",
       "\n",
       "    .dataframe thead th {\n",
       "        text-align: left;\n",
       "    }\n",
       "\n",
       "    .dataframe tbody tr th {\n",
       "        vertical-align: top;\n",
       "    }\n",
       "</style>\n",
       "<table border=\"1\" class=\"dataframe\">\n",
       "  <thead>\n",
       "    <tr style=\"text-align: right;\">\n",
       "      <th></th>\n",
       "      <th>TOTAL_PAYMENT</th>\n",
       "    </tr>\n",
       "  </thead>\n",
       "  <tbody>\n",
       "    <tr>\n",
       "      <th>0</th>\n",
       "      <td>272,734</td>\n",
       "    </tr>\n",
       "    <tr>\n",
       "      <th>1</th>\n",
       "      <td>24,000</td>\n",
       "    </tr>\n",
       "  </tbody>\n",
       "</table>\n",
       "</div>"
      ],
      "text/plain": [
       "              TOTAL_PAYMENT\n",
       "0                   272,734\n",
       "1                    24,000"
      ]
     },
     "execution_count": 28,
     "metadata": {},
     "output_type": "execute_result"
    }
   ],
   "source": [
    "df[[\"TOTAL_PAYMENT\"]].astype(float).head(2)"
   ]
  },
  {
   "cell_type": "markdown",
   "metadata": {},
   "source": [
    "# A little summarizing"
   ]
  },
  {
   "cell_type": "markdown",
   "metadata": {},
   "source": [
    "## What were the most popular crimes?"
   ]
  },
  {
   "cell_type": "code",
   "execution_count": 29,
   "metadata": {},
   "outputs": [
    {
     "data": {
      "text/plain": [
       "Environmental                               541\n",
       "Fraud - General                             484\n",
       "Antitrust                                   253\n",
       "Other                                       219\n",
       "Import / Export                             158\n",
       "False Statements                            139\n",
       "Immigration                                 138\n",
       "FCPA                                        135\n",
       "Fraud - Tax                                 125\n",
       "FDCA / Pharma                               113\n",
       "Act to Prevent Pollution from Ships         103\n",
       "Wildlife                                     97\n",
       "Food                                         88\n",
       "Fraud - Health Care                          84\n",
       "Money Laundering                             72\n",
       "Controlled substances / Drugs / Meth Act     55\n",
       "Bank Secrecy Act                             54\n",
       "OSHA / Workplace Safety / Mine Safety        31\n",
       "Fraud - Securities                           31\n",
       "Kickbacks                                    30\n",
       "Gambling                                     29\n",
       "Obstruction of Justice                       21\n",
       "Bribery                                      20\n",
       "Fraud - Accounting                           11\n",
       "Name: PRIMARY_CRIME_CODE, dtype: int64"
      ]
     },
     "execution_count": 29,
     "metadata": {},
     "output_type": "execute_result"
    }
   ],
   "source": [
    "df[\"PRIMARY_CRIME_CODE\"].value_counts()"
   ]
  },
  {
   "cell_type": "markdown",
   "metadata": {},
   "source": [
    "### Graph the previous answer, with the longest bar on top"
   ]
  },
  {
   "cell_type": "code",
   "execution_count": 32,
   "metadata": {},
   "outputs": [
    {
     "data": {
      "text/plain": [
       "<matplotlib.axes._subplots.AxesSubplot at 0x1153893c8>"
      ]
     },
     "execution_count": 32,
     "metadata": {},
     "output_type": "execute_result"
    },
    {
     "data": {
      "image/png": "[encoded data removed]",
      "text/plain": [
       "<matplotlib.figure.Figure at 0x1155a0198>"
      ]
     },
     "metadata": {},
     "output_type": "display_data"
    }
   ],
   "source": [
    "df[\"PRIMARY_CRIME_CODE\"].value_counts().sort_values().plot(kind=\"barh\", figsize=(10,10))"
   ]
  },
  {
   "cell_type": "markdown",
   "metadata": {},
   "source": [
    "# Column selection\n",
    "\n",
    "We wanted to view all of those rows, but honestly that's a little silly. **We can't actually see the data we want!** Let's just select the ones we care about.\n",
    "\n",
    "## Create a new dataframe that only includes the company name, disposition type, primary crime code, US Attorney's Office and total payment."
   ]
  },
  {
   "cell_type": "code",
   "execution_count": 33,
   "metadata": {
    "collapsed": true
   },
   "outputs": [],
   "source": [
    "new_df = df[[\"COMPANY\", \"DISPOSITION_TYPE\", \"PRIMARY_CRIME_CODE\", \"USAO\", \"TOTAL_PAYMENT\"]]"
   ]
  },
  {
   "cell_type": "markdown",
   "metadata": {},
   "source": [
    "## Confirm it has 3038 rows and 5 columns"
   ]
  },
  {
   "cell_type": "code",
   "execution_count": 34,
   "metadata": {},
   "outputs": [
    {
     "data": {
      "text/plain": [
       "(3038, 5)"
      ]
     },
     "execution_count": 34,
     "metadata": {},
     "output_type": "execute_result"
    }
   ],
   "source": [
    "new_df.shape"
   ]
  },
  {
   "cell_type": "markdown",
   "metadata": {},
   "source": [
    "## Using this subset, try to extract the state name of the US Attorney's Office into a separate column called `state`\n",
    "\n",
    "Your machine will complain. **Let's talk about that error.**"
   ]
  },
  {
   "cell_type": "code",
   "execution_count": 87,
   "metadata": {
    "scrolled": true
   },
   "outputs": [
    {
     "data": {
      "text/plain": [
       "0                             Virginia - Eastern District\n",
       "1                             Arkansas - Western District\n",
       "2                                                 Arizona\n",
       "3                             Georgia - Northern District\n",
       "4                             Louisiana - Middle District\n",
       "5                            New York - Northern District\n",
       "6                                                  Alaska\n",
       "7                                              New Jersey\n",
       "8                                                 Arizona\n",
       "9                                                 Arizona\n",
       "10                            Virginia - Western District\n",
       "11                            Virginia - Western District\n",
       "12                           Louisiana - Western District\n",
       "13                            New York - Eastern District\n",
       "14                                                 Kansas\n",
       "15                        Mississippi - Northern District\n",
       "16                                                 Oregon\n",
       "17                            Florida - Southern District\n",
       "18                         California - Northern District\n",
       "19                           Louisiana - Eastern District\n",
       "20                                                Vermont\n",
       "21                           New York - Northern District\n",
       "22                           New York - Northern District\n",
       "23              USDOJ - Criminal Division - Fraud Section\n",
       "24              USDOJ - Criminal Division - Fraud Section\n",
       "25              USDOJ - Criminal Division - Fraud Section\n",
       "26                             USDOJ - Antitrust Division\n",
       "27                              Texas - Southern District\n",
       "28                              Texas - Southern District\n",
       "29                            Virginia - Eastern District\n",
       "30                              Texas - Southern District\n",
       "31                            Missouri - Eastern District\n",
       "32                                   District of Columbia\n",
       "33      USDOJ - Criminal Division - Asset Forfeiture &...\n",
       "34                                          Massachusetts\n",
       "35                        Pennsylvania - Western District\n",
       "36                      USDOJ,Virginia - Eastern District\n",
       "37                             USDOJ - Antitrust Division\n",
       "38                               Texas - Eastern District\n",
       "39                           Illinois - Northern District\n",
       "40                              Florida - Middle District\n",
       "41              USDOJ - Criminal Division - Fraud Section\n",
       "42                      West Virginia - Northern District\n",
       "43                            Florida - Southern District\n",
       "44              USDOJ - Criminal Division - Fraud Section\n",
       "45              USDOJ - Criminal Division - Fraud Section\n",
       "46                            Virginia - Eastern District\n",
       "47              USDOJ - Criminal Division - Fraud Section\n",
       "48              USDOJ - Criminal Division - Fraud Section\n",
       "49      Pennsylvania - Western District,USDOJ - Crimin...\n",
       "                              ...                        \n",
       "2988                       California - Northern District\n",
       "2989                        California - Eastern District\n",
       "2990                                                 Utah\n",
       "2991                        California - Central District\n",
       "2992                            Texas - Northern District\n",
       "2993                            Texas - Northern District\n",
       "2994                          Florida - Southern District\n",
       "2995                         Louisiana - Western District\n",
       "2996                         Louisiana - Western District\n",
       "2997                USDOJ - Antitrust Division (New York)\n",
       "2998                                               Kansas\n",
       "2999                           USDOJ - Antitrust Division\n",
       "3000                         Wisconsin - Western District\n",
       "3001                     North Carolina - Middle District\n",
       "3002                                          Connecticut\n",
       "3003                                 District of Columbia\n",
       "3004                                           New Jersey\n",
       "3005                                           New Jersey\n",
       "3006                          Oklahoma - Western District\n",
       "3007                          Oklahoma - Western District\n",
       "3008                                              Wyoming\n",
       "3009                         Louisiana - Eastern District\n",
       "3010                             Texas - Western District\n",
       "3011                 USDOJ - Antitrust Division (Chicago)\n",
       "3012                             Ohio - Northern District\n",
       "3013                                 District of Columbia\n",
       "3014                       Pennsylvania - Middle District\n",
       "3015                                              Wyoming\n",
       "3016                          Michigan - Eastern District\n",
       "3017                          Tennessee - Middle District\n",
       "3018                         Louisiana - Western District\n",
       "3019                         New York - Southern District\n",
       "3020            USDOJ - Criminal Division - Fraud Section\n",
       "3021                      Pennsylvania - Eastern District\n",
       "3022                          Arkansas - Western District\n",
       "3023                                 District of Columbia\n",
       "3024                          Missouri - Western District\n",
       "3025                          Florida - Southern District\n",
       "3026                       California - Northern District\n",
       "3027    USDOJ - Criminal Division - Fraud Section, Cal...\n",
       "3028                                             Maryland\n",
       "3029                          Kentucky - Eastern District\n",
       "3030                        Washington - Western District\n",
       "3031    USDOJ - Environment & Natural Resources Divisi...\n",
       "3032                           USDOJ - Antitrust Division\n",
       "3033                                           New Jersey\n",
       "3034                                 USDOJ - Tax Division\n",
       "3035                          New York - Eastern District\n",
       "3036    District of Columbia,USDOJ - Criminal Division...\n",
       "3037                          Florida - Southern District\n",
       "Name: USAO, Length: 3038, dtype: object"
      ]
     },
     "execution_count": 87,
     "metadata": {},
     "output_type": "execute_result"
    }
   ],
   "source": [
    "new_df[\"USAO\"]"
   ]
  },
  {
   "cell_type": "code",
   "execution_count": 113,
   "metadata": {
    "scrolled": true
   },
   "outputs": [
    {
     "name": "stderr",
     "output_type": "stream",
     "text": [
      "/usr/local/lib/python3.6/site-packages/ipykernel_launcher.py:1: FutureWarning: currently extract(expand=None) means expand=False (return Index/Series/DataFrame) but in a future version of pandas this will be changed to expand=True (return DataFrame)\n",
      "  \"\"\"Entry point for launching an IPython kernel.\n",
      "/usr/local/lib/python3.6/site-packages/ipykernel_launcher.py:1: SettingWithCopyWarning: \n",
      "A value is trying to be set on a copy of a slice from a DataFrame.\n",
      "Try using .loc[row_indexer,col_indexer] = value instead\n",
      "\n",
      "See the caveats in the documentation: http://pandas.pydata.org/pandas-docs/stable/indexing.html#indexing-view-versus-copy\n",
      "  \"\"\"Entry point for launching an IPython kernel.\n"
     ]
    }
   ],
   "source": [
    "new_df[\"state\"] = new_df[\"USAO\"].astype(str).str.extract(\"((\\w.*)-?).*\")"
   ]
  },
  {
   "cell_type": "code",
   "execution_count": 114,
   "metadata": {
    "scrolled": true
   },
   "outputs": [
    {
     "data": {
      "text/plain": [
       "0                             Virginia - Eastern District\n",
       "1                             Arkansas - Western District\n",
       "2                                                 Arizona\n",
       "3                             Georgia - Northern District\n",
       "4                             Louisiana - Middle District\n",
       "5                            New York - Northern District\n",
       "6                                                  Alaska\n",
       "7                                              New Jersey\n",
       "8                                                 Arizona\n",
       "9                                                 Arizona\n",
       "10                            Virginia - Western District\n",
       "11                            Virginia - Western District\n",
       "12                           Louisiana - Western District\n",
       "13                            New York - Eastern District\n",
       "14                                                 Kansas\n",
       "15                        Mississippi - Northern District\n",
       "16                                                 Oregon\n",
       "17                            Florida - Southern District\n",
       "18                         California - Northern District\n",
       "19                           Louisiana - Eastern District\n",
       "20                                                Vermont\n",
       "21                           New York - Northern District\n",
       "22                           New York - Northern District\n",
       "23              USDOJ - Criminal Division - Fraud Section\n",
       "24              USDOJ - Criminal Division - Fraud Section\n",
       "25              USDOJ - Criminal Division - Fraud Section\n",
       "26                             USDOJ - Antitrust Division\n",
       "27                              Texas - Southern District\n",
       "28                              Texas - Southern District\n",
       "29                            Virginia - Eastern District\n",
       "30                              Texas - Southern District\n",
       "31                            Missouri - Eastern District\n",
       "32                                   District of Columbia\n",
       "33      USDOJ - Criminal Division - Asset Forfeiture &...\n",
       "34                                          Massachusetts\n",
       "35                        Pennsylvania - Western District\n",
       "36                      USDOJ,Virginia - Eastern District\n",
       "37                             USDOJ - Antitrust Division\n",
       "38                               Texas - Eastern District\n",
       "39                           Illinois - Northern District\n",
       "40                              Florida - Middle District\n",
       "41              USDOJ - Criminal Division - Fraud Section\n",
       "42                      West Virginia - Northern District\n",
       "43                            Florida - Southern District\n",
       "44              USDOJ - Criminal Division - Fraud Section\n",
       "45              USDOJ - Criminal Division - Fraud Section\n",
       "46                            Virginia - Eastern District\n",
       "47              USDOJ - Criminal Division - Fraud Section\n",
       "48              USDOJ - Criminal Division - Fraud Section\n",
       "49      Pennsylvania - Western District,USDOJ - Crimin...\n",
       "                              ...                        \n",
       "2988                       California - Northern District\n",
       "2989                        California - Eastern District\n",
       "2990                                                 Utah\n",
       "2991                        California - Central District\n",
       "2992                            Texas - Northern District\n",
       "2993                            Texas - Northern District\n",
       "2994                          Florida - Southern District\n",
       "2995                         Louisiana - Western District\n",
       "2996                         Louisiana - Western District\n",
       "2997                USDOJ - Antitrust Division (New York)\n",
       "2998                                               Kansas\n",
       "2999                           USDOJ - Antitrust Division\n",
       "3000                         Wisconsin - Western District\n",
       "3001                     North Carolina - Middle District\n",
       "3002                                          Connecticut\n",
       "3003                                 District of Columbia\n",
       "3004                                           New Jersey\n",
       "3005                                           New Jersey\n",
       "3006                          Oklahoma - Western District\n",
       "3007                          Oklahoma - Western District\n",
       "3008                                              Wyoming\n",
       "3009                         Louisiana - Eastern District\n",
       "3010                             Texas - Western District\n",
       "3011                 USDOJ - Antitrust Division (Chicago)\n",
       "3012                             Ohio - Northern District\n",
       "3013                                 District of Columbia\n",
       "3014                       Pennsylvania - Middle District\n",
       "3015                                              Wyoming\n",
       "3016                          Michigan - Eastern District\n",
       "3017                          Tennessee - Middle District\n",
       "3018                         Louisiana - Western District\n",
       "3019                         New York - Southern District\n",
       "3020            USDOJ - Criminal Division - Fraud Section\n",
       "3021                      Pennsylvania - Eastern District\n",
       "3022                          Arkansas - Western District\n",
       "3023                                 District of Columbia\n",
       "3024                          Missouri - Western District\n",
       "3025                          Florida - Southern District\n",
       "3026                       California - Northern District\n",
       "3027    USDOJ - Criminal Division - Fraud Section, Cal...\n",
       "3028                                             Maryland\n",
       "3029                          Kentucky - Eastern District\n",
       "3030                        Washington - Western District\n",
       "3031    USDOJ - Environment & Natural Resources Divisi...\n",
       "3032                           USDOJ - Antitrust Division\n",
       "3033                                           New Jersey\n",
       "3034                                 USDOJ - Tax Division\n",
       "3035                          New York - Eastern District\n",
       "3036    District of Columbia,USDOJ - Criminal Division...\n",
       "3037                          Florida - Southern District\n",
       "Name: state, Length: 3038, dtype: object"
      ]
     },
     "execution_count": 114,
     "metadata": {},
     "output_type": "execute_result"
    }
   ],
   "source": [
    "new_df[\"state\"]"
   ]
  },
  {
   "cell_type": "markdown",
   "metadata": {},
   "source": [
    "## Look at the first 25 states.\n",
    "\n",
    "Confirm they match the following. If they don't, improve your technique from above.\n",
    "\n",
    "    0        Virginia\n",
    "    1        Arkansas\n",
    "    2         Arizona\n",
    "    3         Georgia\n",
    "    4       Louisiana\n",
    "    5        New York\n",
    "    6          Alaska\n",
    "    7      New Jersey\n",
    "    8         Arizona\n",
    "    9         Arizona\n",
    "    10       Virginia\n",
    "    11       Virginia\n",
    "    12      Louisiana\n",
    "    13       New York\n",
    "    14         Kansas\n",
    "    15    Mississippi\n",
    "    16         Oregon\n",
    "    17        Florida\n",
    "    18     California\n",
    "    19      Louisiana\n",
    "    20        Vermont\n",
    "    21       New York\n",
    "    22       New York\n",
    "    23          USDOJ\n",
    "    24          USDO"
   ]
  },
  {
   "cell_type": "code",
   "execution_count": null,
   "metadata": {
    "collapsed": true
   },
   "outputs": [],
   "source": []
  },
  {
   "cell_type": "markdown",
   "metadata": {},
   "source": [
    "## Hmm, maybe you should clean that up a little more and try again."
   ]
  },
  {
   "cell_type": "code",
   "execution_count": null,
   "metadata": {
    "collapsed": true
   },
   "outputs": [],
   "source": []
  },
  {
   "cell_type": "markdown",
   "metadata": {},
   "source": [
    "## Which state has had the most total cases?"
   ]
  },
  {
   "cell_type": "code",
   "execution_count": null,
   "metadata": {
    "collapsed": true
   },
   "outputs": [],
   "source": []
  },
  {
   "cell_type": "markdown",
   "metadata": {},
   "source": [
    "## Which state has had the most total fines?"
   ]
  },
  {
   "cell_type": "code",
   "execution_count": null,
   "metadata": {
    "collapsed": true,
    "scrolled": true
   },
   "outputs": [],
   "source": []
  },
  {
   "cell_type": "markdown",
   "metadata": {},
   "source": [
    "## Show me both the count AND the sum in the same dataframe\n",
    "\n",
    "- Tip: There's a quick way to do this if you'd like"
   ]
  },
  {
   "cell_type": "code",
   "execution_count": null,
   "metadata": {
    "collapsed": true
   },
   "outputs": [],
   "source": []
  },
  {
   "cell_type": "markdown",
   "metadata": {},
   "source": [
    "## Graph that, but only for \"real\" states\n",
    "\n",
    "Here's a list of state names, if you'd like:\n",
    "\n",
    "    ['Alaska', 'Alabama', 'Arkansas', 'American Samoa', 'Arizona', 'California', 'Colorado', 'Connecticut', 'District of Columbia', 'Delaware', 'Florida', 'Georgia', 'Guam', 'Hawaii', 'Iowa', 'Idaho', 'Illinois', 'Indiana', 'Kansas', 'Kentucky', 'Louisiana', 'Massachusetts', 'Maryland', 'Maine', 'Michigan', 'Minnesota', 'Missouri', 'Northern Mariana Islands', 'Mississippi', 'Montana', 'National', 'North Carolina', 'North Dakota', 'Nebraska', 'New Hampshire', 'New Jersey', 'New Mexico', 'Nevada', 'New York', 'Ohio', 'Oklahoma', 'Oregon', 'Pennsylvania', 'Puerto Rico', 'Rhode Island', 'South Carolina', 'South Dakota', 'Tennessee', 'Texas', 'Utah', 'Virginia', 'Virgin Islands', 'Vermont', 'Washington', 'Wisconsin', 'West Virginia', 'Wyoming']"
   ]
  },
  {
   "cell_type": "code",
   "execution_count": null,
   "metadata": {
    "collapsed": true
   },
   "outputs": [],
   "source": []
  },
  {
   "cell_type": "markdown",
   "metadata": {},
   "source": [
    "## What are the states that have so many prosecutions but so little money?"
   ]
  },
  {
   "cell_type": "code",
   "execution_count": null,
   "metadata": {
    "collapsed": true
   },
   "outputs": [],
   "source": []
  },
  {
   "cell_type": "markdown",
   "metadata": {},
   "source": [
    "# Make another comparison between two groups in the full dataset\n",
    "\n",
    "For example, \"cases before 2003 were likely to be about this, but after 2003 they became about something else.\""
   ]
  },
  {
   "cell_type": "code",
   "execution_count": null,
   "metadata": {
    "collapsed": true
   },
   "outputs": [],
   "source": []
  }
 ],
 "metadata": {
  "kernelspec": {
   "display_name": "Python 3",
   "language": "python",
   "name": "python3"
  },
  "language_info": {
   "codemirror_mode": {
    "name": "ipython",
    "version": 3
   },
   "file_extension": ".py",
   "mimetype": "text/x-python",
   "name": "python",
   "nbconvert_exporter": "python",
   "pygments_lexer": "ipython3",
   "version": "3.6.1"
  }
 },
 "nbformat": 4,
 "nbformat_minor": 2
}
