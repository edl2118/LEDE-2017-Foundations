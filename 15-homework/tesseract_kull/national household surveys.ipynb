{
 "cells": [
  {
   "cell_type": "markdown",
   "metadata": {},
   "source": [
    "## National Household Surveys "
   ]
  },
  {
   "cell_type": "markdown",
   "metadata": {},
   "source": [
    "Processing/Cleaning first try: tried creating bounding boxes using KULL and using with PDF Query but got bad results\n",
    "\n",
    "Processing/Cleaning second try: using Tesseract to convert PDF into PNG and using KULL to create uzn file"
   ]
  },
  {
   "cell_type": "markdown",
   "metadata": {},
   "source": [
    "Source: https://www.toronto.ca/city-government/data-research-maps/neighbourhoods-communities/ward-profiles/"
   ]
  },
  {
   "cell_type": "code",
   "execution_count": 1,
   "metadata": {
    "collapsed": true
   },
   "outputs": [],
   "source": [
    "import pandas as pd\n",
    "%matplotlib inline\n",
    "import numpy as np\n",
    "import glob\n",
    "import pdfquery"
   ]
  },
  {
   "cell_type": "code",
   "execution_count": 24,
   "metadata": {
    "scrolled": false
   },
   "outputs": [
    {
     "data": {
      "text/plain": [
       "['wards/ward01.pdf',\n",
       " 'wards/ward02.pdf',\n",
       " 'wards/ward03.pdf',\n",
       " 'wards/ward04.pdf',\n",
       " 'wards/ward05.pdf',\n",
       " 'wards/ward06.pdf',\n",
       " 'wards/ward07.pdf',\n",
       " 'wards/ward08.pdf',\n",
       " 'wards/ward09.pdf',\n",
       " 'wards/ward10.pdf',\n",
       " 'wards/ward11.pdf',\n",
       " 'wards/ward12.pdf',\n",
       " 'wards/ward13.pdf',\n",
       " 'wards/ward14.pdf',\n",
       " 'wards/ward15.pdf',\n",
       " 'wards/ward16.pdf',\n",
       " 'wards/ward17.pdf',\n",
       " 'wards/ward18.pdf',\n",
       " 'wards/ward19.pdf',\n",
       " 'wards/ward20.pdf',\n",
       " 'wards/ward21.pdf',\n",
       " 'wards/ward22.pdf',\n",
       " 'wards/ward23.pdf',\n",
       " 'wards/ward24.pdf',\n",
       " 'wards/ward25.pdf',\n",
       " 'wards/ward26.pdf',\n",
       " 'wards/ward27.pdf',\n",
       " 'wards/ward28.pdf',\n",
       " 'wards/ward29.pdf',\n",
       " 'wards/ward30.pdf',\n",
       " 'wards/ward31.pdf',\n",
       " 'wards/ward32.pdf',\n",
       " 'wards/ward33.pdf',\n",
       " 'wards/ward34.pdf',\n",
       " 'wards/ward35.pdf',\n",
       " 'wards/ward36.pdf',\n",
       " 'wards/ward37.pdf',\n",
       " 'wards/ward38.pdf',\n",
       " 'wards/ward39.pdf',\n",
       " 'wards/ward40.pdf',\n",
       " 'wards/ward41.pdf',\n",
       " 'wards/ward42.pdf',\n",
       " 'wards/ward43.pdf',\n",
       " 'wards/ward44.pdf']"
      ]
     },
     "execution_count": 24,
     "metadata": {},
     "output_type": "execute_result"
    }
   ],
   "source": [
    "pdfs = glob.glob('wards/*.pdf')\n",
    "pdfs"
   ]
  },
  {
   "cell_type": "markdown",
   "metadata": {},
   "source": [
    "## Try 1 - using PDFQuery and Kull"
   ]
  },
  {
   "cell_type": "code",
   "execution_count": 3,
   "metadata": {},
   "outputs": [],
   "source": [
    "pdf = pdfquery.PDFQuery(\"wards/ward01.pdf\")\n",
    "pdf.load()"
   ]
  },
  {
   "cell_type": "code",
   "execution_count": 4,
   "metadata": {
    "scrolled": true
   },
   "outputs": [
    {
     "data": {
      "text/plain": [
       "[<LTTextLineHorizontal>, <LTTextLineHorizontal>, <LTTextLineHorizontal>, <LTTextLineHorizontal>, <LTTextLineHorizontal>, <LTTextLineHorizontal>, <LTTextLineHorizontal>, <LTTextLineHorizontal>, <LTTextLineHorizontal>, <LTTextLineHorizontal>, <LTTextLineHorizontal>, <LTTextLineHorizontal>, <LTTextLineHorizontal>]"
      ]
     },
     "execution_count": 4,
     "metadata": {},
     "output_type": "execute_result"
    }
   ],
   "source": [
    "label = pdf.pq('LTTextLineHorizontal:contains(\"Income\")')\n",
    "label"
   ]
  },
  {
   "cell_type": "code",
   "execution_count": 5,
   "metadata": {},
   "outputs": [
    {
     "data": {
      "text/plain": [
       "'2010 Household Income 2010Household Income Household Income - 2010 Low Income - 2010 Low Income* Low Income* Individual Income (15 years and over) - 2010 Composition of Income (15 years and over) - 2010 Income / Shelter Costs Average Household Income AverageHousehold Income AverageIndividual Income Composition of Income Household Income Total Income'"
      ]
     },
     "execution_count": 5,
     "metadata": {},
     "output_type": "execute_result"
    }
   ],
   "source": [
    "label.text()"
   ]
  },
  {
   "cell_type": "code",
   "execution_count": 6,
   "metadata": {},
   "outputs": [
    {
     "data": {
      "text/plain": [
       "[{'income': ''}]"
      ]
     },
     "execution_count": 6,
     "metadata": {},
     "output_type": "execute_result"
    }
   ],
   "source": [
    "pdf = pdfquery.PDFQuery('wards/ward01.pdf')\n",
    "\n",
    "query=[]\n",
    "\n",
    "my_query = pdf.extract([\n",
    "\t('with_formatter', 'text'),\n",
    "\t('income', 'LTPage[pageid=\\'1\\'] LTTextLineHorizontal:overlaps_bbox(\"314,372,378,357\")')\n",
    "])\n",
    "\n",
    "query.append(my_query)\n",
    "query"
   ]
  },
  {
   "cell_type": "markdown",
   "metadata": {},
   "source": [
    "## Try 2 - using Tesseract and Kull\n"
   ]
  },
  {
   "cell_type": "markdown",
   "metadata": {},
   "source": [
    "\n",
    "Use ImageMagick to convert our PDF into PNG "
   ]
  },
  {
   "cell_type": "code",
   "execution_count": 7,
   "metadata": {
    "collapsed": true
   },
   "outputs": [],
   "source": [
    "\n",
    "!convert -density 300 wards/ward01.pdf wards/output.png"
   ]
  },
  {
   "cell_type": "markdown",
   "metadata": {},
   "source": [
    "Use glob to combine all the png files and remove the pngs that you don't need"
   ]
  },
  {
   "cell_type": "code",
   "execution_count": 8,
   "metadata": {
    "collapsed": true
   },
   "outputs": [],
   "source": [
    "pngs = glob.glob('wards/output-*.png')\n",
    "pngs.remove('wards/output-1.png')\n",
    "pngs.remove('wards/output-2.png')\n",
    "pngs.remove('wards/output-3.png')\n",
    "pngs.remove('wards/output-4.png')\n",
    "pngs.remove('wards/output-5.png')\n",
    "pngs.remove('wards/output-6.png')\n",
    "pngs.remove('wards/output-7.png')\n",
    "pngs.remove('wards/output-8.png')\n",
    "pngs.remove('wards/output-9.png')\n",
    "pngs.remove('wards/output-10.png')\n",
    "pngs.remove('wards/output-11.png')\n",
    "pngs.remove('wards/output-12.png')\n",
    "pngs.remove('wards/output-13.png')\n",
    "pngs.remove('wards/output-14.png')\n",
    "pngs.remove('wards/output-15.png')\n",
    "pngs.remove('wards/output-16.png')\n",
    "pngs.remove('wards/output-17.png')\n",
    "pngs.remove('wards/output-18.png')\n",
    "pngs.remove('wards/output-19.png')\n",
    "pngs.remove('wards/output-20.png')\n",
    "pngs.remove('wards/output-21.png')"
   ]
  },
  {
   "cell_type": "code",
   "execution_count": 9,
   "metadata": {
    "scrolled": false
   },
   "outputs": [
    {
     "data": {
      "text/plain": [
       "['wards/output-0.png']"
      ]
     },
     "execution_count": 9,
     "metadata": {},
     "output_type": "execute_result"
    }
   ],
   "source": [
    "pngs"
   ]
  },
  {
   "cell_type": "markdown",
   "metadata": {},
   "source": [
    "Use tesseract and uzn file created from Kull to create a text file"
   ]
  },
  {
   "cell_type": "code",
   "execution_count": 10,
   "metadata": {
    "scrolled": false
   },
   "outputs": [
    {
     "name": "stdout",
     "output_type": "stream",
     "text": [
      "Tesseract Open Source OCR Engine v3.05.01 with Leptonica\n",
      "Warning. Invalid resolution 0 dpi. Using 70 instead.\n"
     ]
    }
   ],
   "source": [
    "for png in pngs:\n",
    "    !cp output-0.uzn wards/output-0.uzn\n",
    "    !mv wards/output-0.uzn {png[:-4]}.uzn\n",
    "    !tesseract {png} {png[:-4]} -c tessedit_char_blacklist=ﬁﬂ -psm 6\n",
    "    "
   ]
  },
  {
   "cell_type": "markdown",
   "metadata": {},
   "source": [
    "Combine all text files using glob"
   ]
  },
  {
   "cell_type": "code",
   "execution_count": 11,
   "metadata": {
    "collapsed": true
   },
   "outputs": [],
   "source": [
    "texts = glob.glob('wards/output-*.txt')"
   ]
  },
  {
   "cell_type": "markdown",
   "metadata": {},
   "source": [
    "Read in text and append its data into empty lists"
   ]
  },
  {
   "cell_type": "code",
   "execution_count": 12,
   "metadata": {},
   "outputs": [],
   "source": [
    "ward_no = []\n",
    "income = []\n",
    "unemployment = []\n",
    "\n",
    "for text in texts:\n",
    "    with open(text) as myfile:\n",
    "        lines = myfile.read().splitlines()\n",
    "    ward_no.append(lines[0])\n",
    "    income.append(lines[2])\n",
    "    unemployment.append(lines[3])\n",
    "    "
   ]
  },
  {
   "cell_type": "code",
   "execution_count": 13,
   "metadata": {
    "scrolled": false
   },
   "outputs": [
    {
     "data": {
      "text/plain": [
       "['Ward 1', '', '$66,001', '']"
      ]
     },
     "execution_count": 13,
     "metadata": {},
     "output_type": "execute_result"
    }
   ],
   "source": [
    "#for some reason I can't seem to grab the unemployment data\n",
    "lines"
   ]
  },
  {
   "cell_type": "markdown",
   "metadata": {},
   "source": [
    "Create a data frame out of the empty lists"
   ]
  },
  {
   "cell_type": "code",
   "execution_count": 14,
   "metadata": {},
   "outputs": [
    {
     "data": {
      "text/html": [
       "<div>\n",
       "<style>\n",
       "    .dataframe thead tr:only-child th {\n",
       "        text-align: right;\n",
       "    }\n",
       "\n",
       "    .dataframe thead th {\n",
       "        text-align: left;\n",
       "    }\n",
       "\n",
       "    .dataframe tbody tr th {\n",
       "        vertical-align: top;\n",
       "    }\n",
       "</style>\n",
       "<table border=\"1\" class=\"dataframe\">\n",
       "  <thead>\n",
       "    <tr style=\"text-align: right;\">\n",
       "      <th></th>\n",
       "      <th>ward_no</th>\n",
       "      <th>income</th>\n",
       "      <th>unemployment_rate</th>\n",
       "    </tr>\n",
       "  </thead>\n",
       "  <tbody>\n",
       "    <tr>\n",
       "      <th>0</th>\n",
       "      <td>Ward 1</td>\n",
       "      <td>$66,001</td>\n",
       "      <td></td>\n",
       "    </tr>\n",
       "  </tbody>\n",
       "</table>\n",
       "</div>"
      ],
      "text/plain": [
       "  ward_no   income unemployment_rate\n",
       "0  Ward 1  $66,001                  "
      ]
     },
     "execution_count": 14,
     "metadata": {},
     "output_type": "execute_result"
    }
   ],
   "source": [
    "df = pd.DataFrame(np.column_stack([ward_no, income, unemployment]) , columns=['ward_no', 'income', 'unemployment_rate'])\n",
    "df\n"
   ]
  },
  {
   "cell_type": "markdown",
   "metadata": {},
   "source": [
    "## Looping through all PDFs"
   ]
  },
  {
   "cell_type": "code",
   "execution_count": 53,
   "metadata": {
    "scrolled": true
   },
   "outputs": [
    {
     "name": "stdout",
     "output_type": "stream",
     "text": [
      "convert: unable to open image 'pdf': No such file or directory @ error/blob.c/OpenBlob/3323.\n",
      "convert: no decode delegate for this image format `' @ error/constitute.c/ReadImage/509.\n",
      "convert: no images defined `wards/output.png' @ error/convert.c/ConvertImageCommand/3275.\n",
      "wards/ward01.pdf\n",
      "convert: unable to open image 'pdf': No such file or directory @ error/blob.c/OpenBlob/3323.\n",
      "convert: no decode delegate for this image format `' @ error/constitute.c/ReadImage/509.\n",
      "convert: no images defined `wards/output.png' @ error/convert.c/ConvertImageCommand/3275.\n",
      "wards/ward02.pdf\n",
      "convert: unable to open image 'pdf': No such file or directory @ error/blob.c/OpenBlob/3323.\n",
      "convert: no decode delegate for this image format `' @ error/constitute.c/ReadImage/509.\n",
      "convert: no images defined `wards/output.png' @ error/convert.c/ConvertImageCommand/3275.\n",
      "wards/ward03.pdf\n",
      "convert: unable to open image 'pdf': No such file or directory @ error/blob.c/OpenBlob/3323.\n",
      "convert: no decode delegate for this image format `' @ error/constitute.c/ReadImage/509.\n",
      "convert: no images defined `wards/output.png' @ error/convert.c/ConvertImageCommand/3275.\n",
      "wards/ward04.pdf\n",
      "convert: unable to open image 'pdf': No such file or directory @ error/blob.c/OpenBlob/3323.\n",
      "convert: no decode delegate for this image format `' @ error/constitute.c/ReadImage/509.\n",
      "convert: no images defined `wards/output.png' @ error/convert.c/ConvertImageCommand/3275.\n",
      "wards/ward05.pdf\n",
      "convert: unable to open image 'pdf': No such file or directory @ error/blob.c/OpenBlob/3323.\n",
      "convert: no decode delegate for this image format `' @ error/constitute.c/ReadImage/509.\n",
      "convert: no images defined `wards/output.png' @ error/convert.c/ConvertImageCommand/3275.\n",
      "wards/ward06.pdf\n",
      "convert: unable to open image 'pdf': No such file or directory @ error/blob.c/OpenBlob/3323.\n",
      "convert: no decode delegate for this image format `' @ error/constitute.c/ReadImage/509.\n",
      "convert: no images defined `wards/output.png' @ error/convert.c/ConvertImageCommand/3275.\n",
      "wards/ward07.pdf\n",
      "convert: unable to open image 'pdf': No such file or directory @ error/blob.c/OpenBlob/3323.\n",
      "convert: no decode delegate for this image format `' @ error/constitute.c/ReadImage/509.\n",
      "convert: no images defined `wards/output.png' @ error/convert.c/ConvertImageCommand/3275.\n",
      "wards/ward08.pdf\n",
      "convert: unable to open image 'pdf': No such file or directory @ error/blob.c/OpenBlob/3323.\n",
      "convert: no decode delegate for this image format `' @ error/constitute.c/ReadImage/509.\n",
      "convert: no images defined `wards/output.png' @ error/convert.c/ConvertImageCommand/3275.\n",
      "wards/ward09.pdf\n",
      "convert: unable to open image 'pdf': No such file or directory @ error/blob.c/OpenBlob/3323.\n",
      "convert: no decode delegate for this image format `' @ error/constitute.c/ReadImage/509.\n",
      "convert: no images defined `wards/output.png' @ error/convert.c/ConvertImageCommand/3275.\n",
      "wards/ward10.pdf\n",
      "convert: unable to open image 'pdf': No such file or directory @ error/blob.c/OpenBlob/3323.\n",
      "convert: no decode delegate for this image format `' @ error/constitute.c/ReadImage/509.\n",
      "convert: no images defined `wards/output.png' @ error/convert.c/ConvertImageCommand/3275.\n",
      "wards/ward11.pdf\n",
      "convert: unable to open image 'pdf': No such file or directory @ error/blob.c/OpenBlob/3323.\n",
      "convert: no decode delegate for this image format `' @ error/constitute.c/ReadImage/509.\n",
      "convert: no images defined `wards/output.png' @ error/convert.c/ConvertImageCommand/3275.\n",
      "wards/ward12.pdf\n",
      "convert: unable to open image 'pdf': No such file or directory @ error/blob.c/OpenBlob/3323.\n",
      "convert: no decode delegate for this image format `' @ error/constitute.c/ReadImage/509.\n",
      "convert: no images defined `wards/output.png' @ error/convert.c/ConvertImageCommand/3275.\n",
      "wards/ward13.pdf\n",
      "convert: unable to open image 'pdf': No such file or directory @ error/blob.c/OpenBlob/3323.\n",
      "convert: no decode delegate for this image format `' @ error/constitute.c/ReadImage/509.\n",
      "convert: no images defined `wards/output.png' @ error/convert.c/ConvertImageCommand/3275.\n",
      "wards/ward14.pdf\n",
      "convert: unable to open image 'pdf': No such file or directory @ error/blob.c/OpenBlob/3323.\n",
      "convert: no decode delegate for this image format `' @ error/constitute.c/ReadImage/509.\n",
      "convert: no images defined `wards/output.png' @ error/convert.c/ConvertImageCommand/3275.\n",
      "wards/ward15.pdf\n",
      "convert: unable to open image 'pdf': No such file or directory @ error/blob.c/OpenBlob/3323.\n",
      "convert: no decode delegate for this image format `' @ error/constitute.c/ReadImage/509.\n",
      "convert: no images defined `wards/output.png' @ error/convert.c/ConvertImageCommand/3275.\n",
      "wards/ward16.pdf\n",
      "convert: unable to open image 'pdf': No such file or directory @ error/blob.c/OpenBlob/3323.\n",
      "convert: no decode delegate for this image format `' @ error/constitute.c/ReadImage/509.\n",
      "convert: no images defined `wards/output.png' @ error/convert.c/ConvertImageCommand/3275.\n",
      "wards/ward17.pdf\n",
      "convert: unable to open image 'pdf': No such file or directory @ error/blob.c/OpenBlob/3323.\n",
      "convert: no decode delegate for this image format `' @ error/constitute.c/ReadImage/509.\n",
      "convert: no images defined `wards/output.png' @ error/convert.c/ConvertImageCommand/3275.\n",
      "wards/ward18.pdf\n",
      "convert: unable to open image 'pdf': No such file or directory @ error/blob.c/OpenBlob/3323.\n",
      "convert: no decode delegate for this image format `' @ error/constitute.c/ReadImage/509.\n",
      "convert: no images defined `wards/output.png' @ error/convert.c/ConvertImageCommand/3275.\n",
      "wards/ward19.pdf\n",
      "convert: unable to open image 'pdf': No such file or directory @ error/blob.c/OpenBlob/3323.\n",
      "convert: no decode delegate for this image format `' @ error/constitute.c/ReadImage/509.\n",
      "convert: no images defined `wards/output.png' @ error/convert.c/ConvertImageCommand/3275.\n",
      "wards/ward20.pdf\n",
      "convert: unable to open image 'pdf': No such file or directory @ error/blob.c/OpenBlob/3323.\n",
      "convert: no decode delegate for this image format `' @ error/constitute.c/ReadImage/509.\n",
      "convert: no images defined `wards/output.png' @ error/convert.c/ConvertImageCommand/3275.\n",
      "wards/ward21.pdf\n",
      "convert: unable to open image 'pdf': No such file or directory @ error/blob.c/OpenBlob/3323.\n",
      "convert: no decode delegate for this image format `' @ error/constitute.c/ReadImage/509.\n",
      "convert: no images defined `wards/output.png' @ error/convert.c/ConvertImageCommand/3275.\n",
      "wards/ward22.pdf\n",
      "convert: unable to open image 'pdf': No such file or directory @ error/blob.c/OpenBlob/3323.\n",
      "convert: no decode delegate for this image format `' @ error/constitute.c/ReadImage/509.\n",
      "convert: no images defined `wards/output.png' @ error/convert.c/ConvertImageCommand/3275.\n",
      "wards/ward23.pdf\n",
      "convert: unable to open image 'pdf': No such file or directory @ error/blob.c/OpenBlob/3323.\n",
      "convert: no decode delegate for this image format `' @ error/constitute.c/ReadImage/509.\n",
      "convert: no images defined `wards/output.png' @ error/convert.c/ConvertImageCommand/3275.\n",
      "wards/ward24.pdf\n",
      "convert: unable to open image 'pdf': No such file or directory @ error/blob.c/OpenBlob/3323.\n",
      "convert: no decode delegate for this image format `' @ error/constitute.c/ReadImage/509.\n",
      "convert: no images defined `wards/output.png' @ error/convert.c/ConvertImageCommand/3275.\n",
      "wards/ward25.pdf\n",
      "convert: unable to open image 'pdf': No such file or directory @ error/blob.c/OpenBlob/3323.\n",
      "convert: no decode delegate for this image format `' @ error/constitute.c/ReadImage/509.\n",
      "convert: no images defined `wards/output.png' @ error/convert.c/ConvertImageCommand/3275.\n",
      "wards/ward26.pdf\n",
      "convert: unable to open image 'pdf': No such file or directory @ error/blob.c/OpenBlob/3323.\n",
      "convert: no decode delegate for this image format `' @ error/constitute.c/ReadImage/509.\n",
      "convert: no images defined `wards/output.png' @ error/convert.c/ConvertImageCommand/3275.\n",
      "wards/ward27.pdf\n",
      "convert: unable to open image 'pdf': No such file or directory @ error/blob.c/OpenBlob/3323.\n",
      "convert: no decode delegate for this image format `' @ error/constitute.c/ReadImage/509.\n",
      "convert: no images defined `wards/output.png' @ error/convert.c/ConvertImageCommand/3275.\n",
      "wards/ward28.pdf\n",
      "convert: unable to open image 'pdf': No such file or directory @ error/blob.c/OpenBlob/3323.\n",
      "convert: no decode delegate for this image format `' @ error/constitute.c/ReadImage/509.\n",
      "convert: no images defined `wards/output.png' @ error/convert.c/ConvertImageCommand/3275.\n"
     ]
    },
    {
     "name": "stdout",
     "output_type": "stream",
     "text": [
      "wards/ward29.pdf\n",
      "convert: unable to open image 'pdf': No such file or directory @ error/blob.c/OpenBlob/3323.\n",
      "convert: no decode delegate for this image format `' @ error/constitute.c/ReadImage/509.\n",
      "convert: no images defined `wards/output.png' @ error/convert.c/ConvertImageCommand/3275.\n",
      "wards/ward30.pdf\n",
      "convert: unable to open image 'pdf': No such file or directory @ error/blob.c/OpenBlob/3323.\n",
      "convert: no decode delegate for this image format `' @ error/constitute.c/ReadImage/509.\n",
      "convert: no images defined `wards/output.png' @ error/convert.c/ConvertImageCommand/3275.\n",
      "wards/ward31.pdf\n",
      "convert: unable to open image 'pdf': No such file or directory @ error/blob.c/OpenBlob/3323.\n",
      "convert: no decode delegate for this image format `' @ error/constitute.c/ReadImage/509.\n",
      "convert: no images defined `wards/output.png' @ error/convert.c/ConvertImageCommand/3275.\n",
      "wards/ward32.pdf\n",
      "convert: unable to open image 'pdf': No such file or directory @ error/blob.c/OpenBlob/3323.\n",
      "convert: no decode delegate for this image format `' @ error/constitute.c/ReadImage/509.\n",
      "convert: no images defined `wards/output.png' @ error/convert.c/ConvertImageCommand/3275.\n",
      "wards/ward33.pdf\n",
      "convert: unable to open image 'pdf': No such file or directory @ error/blob.c/OpenBlob/3323.\n",
      "convert: no decode delegate for this image format `' @ error/constitute.c/ReadImage/509.\n",
      "convert: no images defined `wards/output.png' @ error/convert.c/ConvertImageCommand/3275.\n",
      "wards/ward34.pdf\n",
      "convert: unable to open image 'pdf': No such file or directory @ error/blob.c/OpenBlob/3323.\n",
      "convert: no decode delegate for this image format `' @ error/constitute.c/ReadImage/509.\n",
      "convert: no images defined `wards/output.png' @ error/convert.c/ConvertImageCommand/3275.\n",
      "wards/ward35.pdf\n",
      "convert: unable to open image 'pdf': No such file or directory @ error/blob.c/OpenBlob/3323.\n",
      "convert: no decode delegate for this image format `' @ error/constitute.c/ReadImage/509.\n",
      "convert: no images defined `wards/output.png' @ error/convert.c/ConvertImageCommand/3275.\n",
      "wards/ward36.pdf\n",
      "convert: unable to open image 'pdf': No such file or directory @ error/blob.c/OpenBlob/3323.\n",
      "convert: no decode delegate for this image format `' @ error/constitute.c/ReadImage/509.\n",
      "convert: no images defined `wards/output.png' @ error/convert.c/ConvertImageCommand/3275.\n",
      "wards/ward37.pdf\n",
      "convert: unable to open image 'pdf': No such file or directory @ error/blob.c/OpenBlob/3323.\n",
      "convert: no decode delegate for this image format `' @ error/constitute.c/ReadImage/509.\n",
      "convert: no images defined `wards/output.png' @ error/convert.c/ConvertImageCommand/3275.\n",
      "wards/ward38.pdf\n",
      "convert: unable to open image 'pdf': No such file or directory @ error/blob.c/OpenBlob/3323.\n",
      "convert: no decode delegate for this image format `' @ error/constitute.c/ReadImage/509.\n",
      "convert: no images defined `wards/output.png' @ error/convert.c/ConvertImageCommand/3275.\n",
      "wards/ward39.pdf\n",
      "convert: unable to open image 'pdf': No such file or directory @ error/blob.c/OpenBlob/3323.\n",
      "convert: no decode delegate for this image format `' @ error/constitute.c/ReadImage/509.\n",
      "convert: no images defined `wards/output.png' @ error/convert.c/ConvertImageCommand/3275.\n",
      "wards/ward40.pdf\n",
      "convert: unable to open image 'pdf': No such file or directory @ error/blob.c/OpenBlob/3323.\n",
      "convert: no decode delegate for this image format `' @ error/constitute.c/ReadImage/509.\n",
      "convert: no images defined `wards/output.png' @ error/convert.c/ConvertImageCommand/3275.\n",
      "wards/ward41.pdf\n",
      "convert: unable to open image 'pdf': No such file or directory @ error/blob.c/OpenBlob/3323.\n",
      "convert: no decode delegate for this image format `' @ error/constitute.c/ReadImage/509.\n",
      "convert: no images defined `wards/output.png' @ error/convert.c/ConvertImageCommand/3275.\n",
      "wards/ward42.pdf\n",
      "convert: unable to open image 'pdf': No such file or directory @ error/blob.c/OpenBlob/3323.\n",
      "convert: no decode delegate for this image format `' @ error/constitute.c/ReadImage/509.\n",
      "convert: no images defined `wards/output.png' @ error/convert.c/ConvertImageCommand/3275.\n",
      "wards/ward43.pdf\n",
      "convert: unable to open image 'pdf': No such file or directory @ error/blob.c/OpenBlob/3323.\n",
      "convert: no decode delegate for this image format `' @ error/constitute.c/ReadImage/509.\n",
      "convert: no images defined `wards/output.png' @ error/convert.c/ConvertImageCommand/3275.\n",
      "wards/ward44.pdf\n"
     ]
    }
   ],
   "source": [
    "for pdf in pdfs:\n",
    "    !convert -density 300 pdf wards/output.png\n",
    "    print(pdf)"
   ]
  },
  {
   "cell_type": "code",
   "execution_count": null,
   "metadata": {
    "collapsed": true
   },
   "outputs": [],
   "source": []
  }
 ],
 "metadata": {
  "kernelspec": {
   "display_name": "Python 3",
   "language": "python",
   "name": "python3"
  },
  "language_info": {
   "codemirror_mode": {
    "name": "ipython",
    "version": 3
   },
   "file_extension": ".py",
   "mimetype": "text/x-python",
   "name": "python",
   "nbconvert_exporter": "python",
   "pygments_lexer": "ipython3",
   "version": "3.6.1"
  }
 },
 "nbformat": 4,
 "nbformat_minor": 2
}
