{
 "cells": [
  {
   "cell_type": "markdown",
   "metadata": {},
   "source": [
    "## Import Libraries"
   ]
  },
  {
   "cell_type": "code",
   "execution_count": 1,
   "metadata": {
    "collapsed": true
   },
   "outputs": [],
   "source": [
    "import pandas as pd\n",
    "%matplotlib inline\n",
    "import numpy as np\n",
    "import glob"
   ]
  },
  {
   "cell_type": "code",
   "execution_count": 8,
   "metadata": {},
   "outputs": [
    {
     "ename": "SyntaxError",
     "evalue": "invalid character in identifier (<ipython-input-8-74ad4a6bc5a4>, line 1)",
     "output_type": "error",
     "traceback": [
      "\u001b[0;36m  File \u001b[0;32m\"<ipython-input-8-74ad4a6bc5a4>\"\u001b[0;36m, line \u001b[0;32m1\u001b[0m\n\u001b[0;31m    nhs=glob.glob(“nhs/wards/*.pdf”)\u001b[0m\n\u001b[0m                     ^\u001b[0m\n\u001b[0;31mSyntaxError\u001b[0m\u001b[0;31m:\u001b[0m invalid character in identifier\n"
     ]
    }
   ],
   "source": [
    "nhs=glob.glob(“nhs/wards/*.pdf”)"
   ]
  },
  {
   "cell_type": "code",
   "execution_count": 6,
   "metadata": {},
   "outputs": [
    {
     "name": "stdout",
     "output_type": "stream",
     "text": [
      "Ward Profiles - Known Limitations.docx  ward23.pdf\r\n",
      "ward01.pdf                              ward24.pdf\r\n",
      "ward02.pdf                              ward25.pdf\r\n",
      "ward03.pdf                              ward26.pdf\r\n",
      "ward04.pdf                              ward27.pdf\r\n",
      "ward05.pdf                              ward28.pdf\r\n",
      "ward06.pdf                              ward29.pdf\r\n",
      "ward07.pdf                              ward30.pdf\r\n",
      "ward08.pdf                              ward31.pdf\r\n",
      "ward09.pdf                              ward32.pdf\r\n",
      "ward10.pdf                              ward33.pdf\r\n",
      "ward11.pdf                              ward34.pdf\r\n",
      "ward12.pdf                              ward35.pdf\r\n",
      "ward13.pdf                              ward36.pdf\r\n",
      "ward14.pdf                              ward37.pdf\r\n",
      "ward15.pdf                              ward38.pdf\r\n",
      "ward16.pdf                              ward39.pdf\r\n",
      "ward17.pdf                              ward40.pdf\r\n",
      "ward18.pdf                              ward41.pdf\r\n",
      "ward19.pdf                              ward42.pdf\r\n",
      "ward20.pdf                              ward43.pdf\r\n",
      "ward21.pdf                              ward44.pdf\r\n",
      "ward22.pdf\r\n"
     ]
    }
   ],
   "source": [
    "ls nhs/wards/"
   ]
  },
  {
   "cell_type": "code",
   "execution_count": null,
   "metadata": {
    "collapsed": true
   },
   "outputs": [],
   "source": []
  },
  {
   "cell_type": "code",
   "execution_count": null,
   "metadata": {
    "collapsed": true
   },
   "outputs": [],
   "source": []
  },
  {
   "cell_type": "code",
   "execution_count": null,
   "metadata": {
    "collapsed": true
   },
   "outputs": [],
   "source": []
  }
 ],
 "metadata": {
  "kernelspec": {
   "display_name": "Python 3",
   "language": "python",
   "name": "python3"
  },
  "language_info": {
   "codemirror_mode": {
    "name": "ipython",
    "version": 3
   },
   "file_extension": ".py",
   "mimetype": "text/x-python",
   "name": "python",
   "nbconvert_exporter": "python",
   "pygments_lexer": "ipython3",
   "version": "3.6.1"
  }
 },
 "nbformat": 4,
 "nbformat_minor": 2
}
